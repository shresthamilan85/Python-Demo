{
 "cells": [
  {
   "cell_type": "markdown",
   "metadata": {},
   "source": [
    "### Empty string literal = '' or \"\"\n",
    "bool('')"
   ]
  },
  {
   "cell_type": "code",
   "execution_count": 6,
   "metadata": {},
   "outputs": [
    {
     "data": {
      "text/plain": [
       "False"
      ]
     },
     "execution_count": 6,
     "metadata": {},
     "output_type": "execute_result"
    }
   ],
   "source": [
    "#Empty list literal = [], List are mutable (changable)\n",
    "bool([])"
   ]
  },
  {
   "cell_type": "code",
   "execution_count": 8,
   "metadata": {},
   "outputs": [
    {
     "name": "stdout",
     "output_type": "stream",
     "text": [
      "['c', 'o', 'n', 'g', 'r', 'a', 't', 'u', 'l', 'a', 't', 'i', 'o', 'n', 's']\n"
     ]
    }
   ],
   "source": [
    "banner = list(\"congratulations\")\n",
    "print(banner)"
   ]
  },
  {
   "cell_type": "code",
   "execution_count": 19,
   "metadata": {},
   "outputs": [
    {
     "name": "stdout",
     "output_type": "stream",
     "text": [
      "[98.6, 100.5]\n",
      "[98.6, 100.5, 102.2, 103.5, 101.1, 99.9]\n",
      "[102.2, 103.5, 101.1, 99.9]\n",
      "['Dr. Scholls', 'Dr. Pepper']\n",
      "['Dr. Scholls', 'Dr. Pepper', 'Doug', 'Susan']\n"
     ]
    }
   ],
   "source": [
    "#List can store any data type\n",
    "#Add value at the end of the list - use append\n",
    "#Add itmes from one list to another lists - use extend method\n",
    "#concatetation: combination of two lists, without modifying either of them\n",
    "temps = []\n",
    "temps.append(98.6)\n",
    "temps.append(100.5)\n",
    "print(temps)\n",
    "      \n",
    "er_temps = [102.2, 103.5, 101.1, 99.9] \n",
    "temps.extend(er_temps)\n",
    "      \n",
    "print(temps)\n",
    "print(er_temps)\n",
    "\n",
    "primary_care_doctors = [\"Dr. Scholls\", \"Dr. Pepper\"]\n",
    "er_doctors = [\"Doug\", \"Susan\"]\n",
    "all_docs = primary_care_doctors + er_doctors\n",
    "print(primary_care_doctors)\n",
    "print(all_docs)"
   ]
  },
  {
   "cell_type": "code",
   "execution_count": 23,
   "metadata": {},
   "outputs": [
    {
     "name": "stdout",
     "output_type": "stream",
     "text": [
      "['John']\n",
      "['George', 'Ringo']\n",
      "['John', 'Paul']\n",
      "['John', 'Paul', 'George', 'Ringo']\n"
     ]
    }
   ],
   "source": [
    "beatles = [\"John\"]\n",
    "others=[\"George\", \"Ringo\"]\n",
    "print(beatles)\n",
    "print(others)\n",
    "#Add \"Paul\" to the end of the beatles list using the apporpirate list method\n",
    "beatles.append(\"Paul\")\n",
    "print(beatles)\n",
    "\n",
    "#Use the method on lists that allows you to add all values from one list to another\n",
    "beatles.extend(others)\n",
    "print(beatles)"
   ]
  },
  {
   "cell_type": "code",
   "execution_count": 29,
   "metadata": {},
   "outputs": [
    {
     "name": "stdout",
     "output_type": "stream",
     "text": [
      "['b', 'c', 'd', 'e']\n",
      "a\n",
      "b\n"
     ]
    }
   ],
   "source": [
    "#Indexing - zero based (first element is 0, second element is 1 and so on). list_name[index]\n",
    "#Negative index to start from last. -1 indicate the last item. OR list_name[len(list_name) -1]\n",
    "#.format(list_name[index])\n",
    "#list_name.insert(index, \"itmes\")\n",
    "#list_name[index]+=\"items\"\n",
    "#You can access a specific character on a string by using an index, but you cannot change it. Strings are immutable.\n",
    "\n",
    "#del keyword will remove the items from the list, but it can be accessed if stored in other variable.\n",
    "#In the below example, the first item is assign to list2 and than it was deleted from list1. But it is still in list2.\n",
    "#But it is not in the list3, since it was assigned after the deletion.\n",
    "\n",
    "list1=['a', 'b', 'c', 'd', 'e']\n",
    "list2=list1[0]\n",
    "del list1[0]\n",
    "list3=list1[0]\n",
    "print(list1)\n",
    "print(list2)\n",
    "print(list3)\n",
    "\n"
   ]
  },
  {
   "cell_type": "code",
   "execution_count": 30,
   "metadata": {},
   "outputs": [
    {
     "data": {
      "text/plain": [
       "[1, 3, 2]"
      ]
     },
     "execution_count": 30,
     "metadata": {},
     "output_type": "execute_result"
    }
   ],
   "source": [
    "#Remove\n",
    "#list.remove(value). removes the first matching value/object. It does not do anything with the indexing.\n",
    "\n",
    "myList = [1, 2, 3, 2]\n",
    "myList.remove(2)\n",
    "myList\n",
    "#removes first occurence of 2"
   ]
  },
  {
   "cell_type": "code",
   "execution_count": 40,
   "metadata": {},
   "outputs": [
    {
     "data": {
      "text/plain": [
       "[3, 2, 1]"
      ]
     },
     "execution_count": 40,
     "metadata": {},
     "output_type": "execute_result"
    }
   ],
   "source": [
    "#Del, del list[index], removes the item at a specific index.\n",
    "\n",
    "myList = [3, 2, 2, 1]\n",
    "\n",
    "del myList[1]\n",
    "# b = del myList[1], invalid syntax\n",
    " \n",
    "myList \n",
    "\n"
   ]
  },
  {
   "cell_type": "code",
   "execution_count": 41,
   "metadata": {},
   "outputs": [
    {
     "name": "stdout",
     "output_type": "stream",
     "text": [
      "[4, 5]\n",
      "3\n"
     ]
    }
   ],
   "source": [
    "#pop, list.pop(index), removes the item at a specific index and returns it.\n",
    "\n",
    "myList = [4, 3, 5]\n",
    " \n",
    "a = myList.pop(1)\n",
    " \n",
    "print(myList)\n",
    "print(a)"
   ]
  },
  {
   "cell_type": "code",
   "execution_count": null,
   "metadata": {},
   "outputs": [],
   "source": [
    "#remove() delete the matching element/object whereas del and pop removes the element at a specific index.\n",
    "#del and pop deals with the index. The only difference between two is that- pop return deleted the value from the list \n",
    "#and del does not return anything.\n",
    "#Pop is only way that returns the object.\n",
    "#Remove is the only one that searches object (not index).\n",
    "\n",
    "#If you want to delete a specific object in the list, use remove method.\n",
    "#If you want to delete the object at a specific location (index) in the list, you can either use del or pop.\n",
    "#Use the pop, if you want to delete and get the object at the specific location.\n",
    "\n",
    "#By default the pop method removes the last item - also refer to as LIFO - Last In, First Out"
   ]
  },
  {
   "cell_type": "code",
   "execution_count": 60,
   "metadata": {},
   "outputs": [
    {
     "name": "stdout",
     "output_type": "stream",
     "text": [
      "* Asia\n",
      "* Africa\n",
      "* Antarctica\n",
      "* Australia\n"
     ]
    }
   ],
   "source": [
    "continents = ['Asia', 'South America', 'North America', 'Africa', 'Europe', 'Antarctica', 'Australia']\n",
    "#Print continents that begin with the letter \"A\"\n",
    "\n",
    "for country in continents:\n",
    "    if country[0]=='A':\n",
    "        print('* '+ country) #OR print('* {}'.format(country))"
   ]
  },
  {
   "cell_type": "code",
   "execution_count": 47,
   "metadata": {},
   "outputs": [
    {
     "name": "stdout",
     "output_type": "stream",
     "text": [
      "['shield', 'apple', 'sword', 'bow']\n",
      "['apple', 'bow']\n",
      "[]\n"
     ]
    }
   ],
   "source": [
    "#copy method, copy_list = org_list.copy(), copy the list, and leave the original intact. any changes can be done in the copy\n",
    "\n",
    "inventory =['shield', 'apple', 'sword', 'bow', 'boomerang']\n",
    "inventory.remove('boomerang')\n",
    "print(inventory)\n",
    "\n",
    "#remove all the items from the inventory\n",
    "for item in inventory:\n",
    "    inventory.remove(item)\n",
    "print(inventory)  #it skips every alternate items in the list becasue the original list gets mutated every time it reomves\n",
    "#the for loops runs for index 0 first time in which index 0 object is 'shield'. the second time the for loop runs for index 1\n",
    "# and now the index 1 will be sword shifting 'apple' to 0 index, since 'shield' will be removed after the first run\n",
    "\n",
    "#use copy method that will leave the original list intact and will mutate only the copied list\n",
    "\n",
    "for item in inventory.copy():\n",
    "    inventory.remove(item)\n",
    "print(inventory) #the original inventory list remains as it is and only the inventory.copy() list gets mutated"
   ]
  },
  {
   "cell_type": "code",
   "execution_count": 15,
   "metadata": {},
   "outputs": [
    {
     "data": {
      "text/plain": [
       "['to', 'the', 'moon', 'and', 'back']"
      ]
     },
     "execution_count": 15,
     "metadata": {},
     "output_type": "execute_result"
    }
   ],
   "source": [
    "#split method, list = string.split(), it turns the string into the list\n",
    "quote = \"to the moon and back\"\n",
    "words = quote.split() #it migh include the paramaters like quote.split(\"; \")\n",
    "words"
   ]
  },
  {
   "cell_type": "code",
   "execution_count": 8,
   "metadata": {},
   "outputs": [
    {
     "name": "stdout",
     "output_type": "stream",
     "text": [
      ";\n"
     ]
    }
   ],
   "source": [
    "#import time library\n",
    "import time\n",
    "for word in words:\n",
    "    print(word)\n",
    "    time.sleep(.9)"
   ]
  },
  {
   "cell_type": "code",
   "execution_count": 21,
   "metadata": {},
   "outputs": [
    {
     "name": "stdout",
     "output_type": "stream",
     "text": [
      "To: James, Ben, Ashley, Guil\n",
      "Cc: Ken; George\n"
     ]
    }
   ],
   "source": [
    "#join, converts list to the string. string = \"seperator\".join(list)\n",
    "attendees = ['James', 'Ben', 'Ashley', 'Guil']\n",
    "optional_attendees = ['Ken', 'George']\n",
    "to_line = ', '.join(attendees)\n",
    "cc_line='; '.join(optional_attendees)\n",
    "\n",
    "print(\"To: {}\".format(to_line))\n",
    "print(\"Cc: \" + cc_line)\n"
   ]
  },
  {
   "cell_type": "code",
   "execution_count": 26,
   "metadata": {},
   "outputs": [
    {
     "name": "stdout",
     "output_type": "stream",
     "text": [
      "Alice\n",
      "3\n",
      "['Marsha', 'Carol', 'Greg']\n",
      "['Jan', 'Alice', 'Peter']\n",
      "['Cindy', 'Mike', 'Bobby']\n"
     ]
    }
   ],
   "source": [
    "#list indside list\n",
    "name=[\n",
    "    ['Marsha', 'Carol', 'Greg'],\n",
    "    ['Jan', 'Alice', 'Peter'],\n",
    "    ['Cindy', 'Mike', 'Bobby']\n",
    "]\n",
    "\n",
    "#how to access Alice\n",
    "print(name[1][1])\n",
    "print(len(name))\n",
    "\n",
    "for i in name:\n",
    "    print (i)"
   ]
  },
  {
   "cell_type": "code",
   "execution_count": null,
   "metadata": {},
   "outputs": [],
   "source": [
    "#import pandas as pd\n",
    "#import os\n",
    "#os.getcwd()\n",
    "#df1 = pd.read_csv(\"file path\", header=none, delimeter=\";\", name=['my-datetime', 'event', 'country', 'user_id', 'source'])\n",
    "#df2.head(100)\n",
    "#df4.sample(5)\n",
    "#df4.tail(2)\n",
    "#df4[[\"my_datetime\", \"source\"]]\n",
    "\n",
    "#xml delimeter = <> </>\n"
   ]
  },
  {
   "cell_type": "code",
   "execution_count": 5,
   "metadata": {},
   "outputs": [
    {
     "data": {
      "text/html": [
       "<div>\n",
       "<style scoped>\n",
       "    .dataframe tbody tr th:only-of-type {\n",
       "        vertical-align: middle;\n",
       "    }\n",
       "\n",
       "    .dataframe tbody tr th {\n",
       "        vertical-align: top;\n",
       "    }\n",
       "\n",
       "    .dataframe thead th {\n",
       "        text-align: right;\n",
       "    }\n",
       "</style>\n",
       "<table border=\"1\" class=\"dataframe\">\n",
       "  <thead>\n",
       "    <tr style=\"text-align: right;\">\n",
       "      <th></th>\n",
       "      <th>Unnamed: 0</th>\n",
       "      <th>S.N</th>\n",
       "      <th>Name</th>\n",
       "      <th>OPEID</th>\n",
       "      <th>Location</th>\n",
       "      <th>Geographic Location</th>\n",
       "      <th>Enrollment Size</th>\n",
       "      <th>Carnegie Classification</th>\n",
       "      <th>Religious Affilation</th>\n",
       "      <th>Year Closed</th>\n",
       "      <th>Note</th>\n",
       "      <th>Links/Details</th>\n",
       "      <th>closed date</th>\n",
       "      <th>Verified through carnegie</th>\n",
       "      <th>2000</th>\n",
       "      <th>2005</th>\n",
       "      <th>2010</th>\n",
       "      <th>2015</th>\n",
       "      <th>2018</th>\n",
       "      <th>Reference</th>\n",
       "    </tr>\n",
       "  </thead>\n",
       "  <tbody>\n",
       "    <tr>\n",
       "      <td>0</td>\n",
       "      <td>NaN</td>\n",
       "      <td>1</td>\n",
       "      <td>John Wesley University</td>\n",
       "      <td>293500.0</td>\n",
       "      <td>High Point,North Carolina</td>\n",
       "      <td>Northeast</td>\n",
       "      <td>4-year, very small, highly residential</td>\n",
       "      <td>NaN</td>\n",
       "      <td>Christian college</td>\n",
       "      <td>2018</td>\n",
       "      <td>university merged to Piedmont International Un...</td>\n",
       "      <td>NaN</td>\n",
       "      <td>2018-05-11 00:00:00</td>\n",
       "      <td>2018</td>\n",
       "      <td>NaN</td>\n",
       "      <td>NaN</td>\n",
       "      <td>NaN</td>\n",
       "      <td>NaN</td>\n",
       "      <td>Yes</td>\n",
       "      <td>https://en.wikipedia.org/wiki/John_Wesley_Univ...</td>\n",
       "    </tr>\n",
       "    <tr>\n",
       "      <td>1</td>\n",
       "      <td>NaN</td>\n",
       "      <td>2</td>\n",
       "      <td>Colorado Heights University</td>\n",
       "      <td>3289300.0</td>\n",
       "      <td>Denver, Colorado</td>\n",
       "      <td>West</td>\n",
       "      <td>Four-year, very small, highly residential</td>\n",
       "      <td>Special Focus Four-Year: Business &amp; Management...</td>\n",
       "      <td>NaN</td>\n",
       "      <td>2017</td>\n",
       "      <td>NaN</td>\n",
       "      <td>NaN</td>\n",
       "      <td>2017-10-13 00:00:00</td>\n",
       "      <td>2015</td>\n",
       "      <td>NaN</td>\n",
       "      <td>NaN</td>\n",
       "      <td>NaN</td>\n",
       "      <td>Yes</td>\n",
       "      <td>No</td>\n",
       "      <td>NaN</td>\n",
       "    </tr>\n",
       "    <tr>\n",
       "      <td>2</td>\n",
       "      <td>NaN</td>\n",
       "      <td>3</td>\n",
       "      <td>Southern Catholic College</td>\n",
       "      <td>4128500.0</td>\n",
       "      <td>Dawsonville, Georgia</td>\n",
       "      <td>South</td>\n",
       "      <td>8</td>\n",
       "      <td>21</td>\n",
       "      <td>Roman Catholic</td>\n",
       "      <td>2010</td>\n",
       "      <td>NaN</td>\n",
       "      <td>NaN</td>\n",
       "      <td>2010-03-31 00:00:00</td>\n",
       "      <td>2010</td>\n",
       "      <td>NaN</td>\n",
       "      <td>NaN</td>\n",
       "      <td>Yes</td>\n",
       "      <td>No</td>\n",
       "      <td>NaN</td>\n",
       "      <td>NaN</td>\n",
       "    </tr>\n",
       "    <tr>\n",
       "      <td>3</td>\n",
       "      <td>NaN</td>\n",
       "      <td>4</td>\n",
       "      <td>Vennard College</td>\n",
       "      <td>189400.0</td>\n",
       "      <td>University Park, Iowa</td>\n",
       "      <td>Midwest</td>\n",
       "      <td>NaN</td>\n",
       "      <td>NaN</td>\n",
       "      <td>NaN</td>\n",
       "      <td>2008</td>\n",
       "      <td>NaN</td>\n",
       "      <td>NaN</td>\n",
       "      <td>2008-11-26 00:00:00</td>\n",
       "      <td>2005</td>\n",
       "      <td>NaN</td>\n",
       "      <td>Yes</td>\n",
       "      <td>No</td>\n",
       "      <td>NaN</td>\n",
       "      <td>NaN</td>\n",
       "      <td>NaN</td>\n",
       "    </tr>\n",
       "    <tr>\n",
       "      <td>4</td>\n",
       "      <td>NaN</td>\n",
       "      <td>5</td>\n",
       "      <td>O'More College of Design</td>\n",
       "      <td>2106401.0</td>\n",
       "      <td>Franklin, TN</td>\n",
       "      <td>Southeast</td>\n",
       "      <td>Four-year, very small, primarily nonresidential</td>\n",
       "      <td>NaN</td>\n",
       "      <td>NaN</td>\n",
       "      <td>2014</td>\n",
       "      <td>In February 2018, it merged with Belmont Unive...</td>\n",
       "      <td>NaN</td>\n",
       "      <td>2014-12-08 00:00:00</td>\n",
       "      <td>2018</td>\n",
       "      <td>NaN</td>\n",
       "      <td>NaN</td>\n",
       "      <td>NaN</td>\n",
       "      <td>NaN</td>\n",
       "      <td>Yes</td>\n",
       "      <td>https://en.wikipedia.org/wiki/O'More_College_o...</td>\n",
       "    </tr>\n",
       "  </tbody>\n",
       "</table>\n",
       "</div>"
      ],
      "text/plain": [
       "   Unnamed: 0  S.N                         Name      OPEID  \\\n",
       "0         NaN    1       John Wesley University   293500.0   \n",
       "1         NaN    2  Colorado Heights University  3289300.0   \n",
       "2         NaN    3    Southern Catholic College  4128500.0   \n",
       "3         NaN    4              Vennard College   189400.0   \n",
       "4         NaN    5     O'More College of Design  2106401.0   \n",
       "\n",
       "                    Location Geographic Location  \\\n",
       "0  High Point,North Carolina           Northeast   \n",
       "1           Denver, Colorado                West   \n",
       "2       Dawsonville, Georgia               South   \n",
       "3      University Park, Iowa             Midwest   \n",
       "4               Franklin, TN           Southeast   \n",
       "\n",
       "                                   Enrollment Size  \\\n",
       "0           4-year, very small, highly residential   \n",
       "1        Four-year, very small, highly residential   \n",
       "2                                                8   \n",
       "3                                              NaN   \n",
       "4  Four-year, very small, primarily nonresidential   \n",
       "\n",
       "                             Carnegie Classification Religious Affilation  \\\n",
       "0                                                NaN    Christian college   \n",
       "1  Special Focus Four-Year: Business & Management...                  NaN   \n",
       "2                                                 21       Roman Catholic   \n",
       "3                                                NaN                  NaN   \n",
       "4                                                NaN                  NaN   \n",
       "\n",
       "   Year Closed                                               Note  \\\n",
       "0         2018  university merged to Piedmont International Un...   \n",
       "1         2017                                                NaN   \n",
       "2         2010                                                NaN   \n",
       "3         2008                                                NaN   \n",
       "4         2014  In February 2018, it merged with Belmont Unive...   \n",
       "\n",
       "   Links/Details          closed date  Verified through carnegie 2000 2005  \\\n",
       "0            NaN  2018-05-11 00:00:00                       2018  NaN  NaN   \n",
       "1            NaN  2017-10-13 00:00:00                       2015  NaN  NaN   \n",
       "2            NaN  2010-03-31 00:00:00                       2010  NaN  NaN   \n",
       "3            NaN  2008-11-26 00:00:00                       2005  NaN  Yes   \n",
       "4            NaN  2014-12-08 00:00:00                       2018  NaN  NaN   \n",
       "\n",
       "  2010 2015 2018                                          Reference  \n",
       "0  NaN  NaN  Yes  https://en.wikipedia.org/wiki/John_Wesley_Univ...  \n",
       "1  NaN  Yes   No                                                NaN  \n",
       "2  Yes   No  NaN                                                NaN  \n",
       "3   No  NaN  NaN                                                NaN  \n",
       "4  NaN  NaN  Yes  https://en.wikipedia.org/wiki/O'More_College_o...  "
      ]
     },
     "execution_count": 5,
     "metadata": {},
     "output_type": "execute_result"
    }
   ],
   "source": [
    "import pandas as pd\n",
    "df1 = pd.read_excel(\"C:\\\\Users\\Milan\\Downloads\\sample.xlsx\")\n",
    "#df1 = pd.DataFrame(data, columns= ['Name', 'Location'])\n",
    "df1.head()\n"
   ]
  },
  {
   "cell_type": "code",
   "execution_count": null,
   "metadata": {},
   "outputs": [],
   "source": []
  },
  {
   "cell_type": "code",
   "execution_count": null,
   "metadata": {},
   "outputs": [],
   "source": []
  }
 ],
 "metadata": {
  "kernelspec": {
   "display_name": "Python 3",
   "language": "python",
   "name": "python3"
  },
  "language_info": {
   "codemirror_mode": {
    "name": "ipython",
    "version": 3
   },
   "file_extension": ".py",
   "mimetype": "text/x-python",
   "name": "python",
   "nbconvert_exporter": "python",
   "pygments_lexer": "ipython3",
   "version": "3.7.4"
  }
 },
 "nbformat": 4,
 "nbformat_minor": 2
}
